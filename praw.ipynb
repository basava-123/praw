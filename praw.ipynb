{
 "cells": [
  {
   "cell_type": "code",
   "execution_count": null,
   "metadata": {},
   "outputs": [
    {
     "ename": "",
     "evalue": "",
     "output_type": "error",
     "traceback": [
      "\u001b[1;31mFailed to start the Kernel. \n",
      "\u001b[1;31mUnable to start Kernel 'anaconda3 (Python 3.11.5)' due to a connection timeout. \n",
      "\u001b[1;31mView Jupyter <a href='command:jupyter.viewOutput'>log</a> for further details."
     ]
    }
   ],
   "source": [
    "# # import the modules \n",
    "import praw \n",
    "from datetime import datetime\n",
    "from textblob import TextBlob \n",
    "import networkx as nx, numpy as np, pandas as pd, matplotlib.pyplot as plt , re, time\n",
    "%matplotlib inline"
   ]
  },
  {
   "cell_type": "code",
   "execution_count": null,
   "metadata": {},
   "outputs": [
    {
     "ename": "",
     "evalue": "",
     "output_type": "error",
     "traceback": [
      "\u001b[1;31mFailed to start the Kernel. \n",
      "\u001b[1;31mUnable to start Kernel 'anaconda3 (Python 3.11.5)' due to a connection timeout. \n",
      "\u001b[1;31mView Jupyter <a href='command:jupyter.viewOutput'>log</a> for further details."
     ]
    }
   ],
   "source": [
    "# # creating an authorized reddit instance \n",
    "reddit = praw.Reddit(\n",
    "    client_id='IZh-17KfLVsGl6boaOga-A',\n",
    "    client_secret='1U1ejYRbJj6gac8Y2rIx6dW9N0XjJw',\n",
    "    password='China@123',\n",
    "    user_agent='ChardMany8896',\n",
    "    username='ChardMany8896',\n",
    "    )"
   ]
  },
  {
   "cell_type": "code",
   "execution_count": null,
   "metadata": {},
   "outputs": [
    {
     "ename": "",
     "evalue": "",
     "output_type": "error",
     "traceback": [
      "\u001b[1;31mFailed to start the Kernel. \n",
      "\u001b[1;31mUnable to start Kernel 'anaconda3 (Python 3.11.5)' due to a connection timeout. \n",
      "\u001b[1;31mView Jupyter <a href='command:jupyter.viewOutput'>log</a> for further details."
     ]
    }
   ],
   "source": [
    "def get_posts(subred_name, n):\n",
    "    subreddit = reddit.subreddit(subred_name)\n",
    "    posts_info = [] \n",
    "    \n",
    "    for subm in subreddit.top(limit=n):\n",
    "        \n",
    "        subred_info = []\n",
    "        subred_info.append(subm.id)  \n",
    "        subred_info.append(str(subm.author)) \n",
    "        subred_info.append(subm.score)  \n",
    "        subred_info.append(subm.upvote_ratio)\n",
    "        subred_info.append(subm.num_comments)\n",
    "        subred_info.append(subm.subreddit)\n",
    "        posts_info.append(subred_info)\n",
    "    \n",
    "    sorted_info = sorted(posts_info, key=lambda x: x[1], reverse = True)\n",
    "    posts_df = pd.DataFrame(sorted_info, columns = ['id','author', 'score','upvote_ratio' ,'num_comments', 'subreddit'])\n",
    "    return posts_df\n",
    "python_df = get_posts('Python', 100)\n",
    "python_df.head(100)\n",
    "\n"
   ]
  },
  {
   "cell_type": "code",
   "execution_count": null,
   "metadata": {},
   "outputs": [
    {
     "ename": "",
     "evalue": "",
     "output_type": "error",
     "traceback": [
      "\u001b[1;31mFailed to start the Kernel. \n",
      "\u001b[1;31mUnable to start Kernel 'anaconda3 (Python 3.11.5)' due to a connection timeout. \n",
      "\u001b[1;31mView Jupyter <a href='command:jupyter.viewOutput'>log</a> for further details."
     ]
    }
   ],
   "source": [
    "# Data Cleaning\n",
    "\n",
    "freq_authors = python_df[python_df.duplicated(['author'], keep = False)] # users who have posted more than once\n",
    "freq_authors = freq_authors[freq_authors.author != 'None'] #  Getting rid of deleted users\n",
    "freq_authors.author.nunique() #There are 41 users out of 500 who have posted more than once\n",
    "\n",
    "# The bar graph shows the distribution of users out of 500 who featured posts on r/python, more than once.\n",
    "\n",
    "plt.figure(figsize=(10, 5))\n",
    "author_counts = freq_authors['author'].value_counts()\n",
    "if not author_counts.empty:\n",
    "    ax = author_counts.plot(kind='bar', title='Distribution of author/users and their posts')\n",
    "    ax.set_xlabel(\"Users\")\n",
    "    ax.set_ylabel(\"Number of posts\")\n",
    "else:\n",
    "    print(\"No data to plot\")\n"
   ]
  },
  {
   "cell_type": "code",
   "execution_count": null,
   "metadata": {},
   "outputs": [
    {
     "ename": "",
     "evalue": "",
     "output_type": "error",
     "traceback": [
      "\u001b[1;31mFailed to start the Kernel. \n",
      "\u001b[1;31mUnable to start Kernel 'anaconda3 (Python 3.11.5)' due to a connection timeout. \n",
      "\u001b[1;31mView Jupyter <a href='command:jupyter.viewOutput'>log</a> for further details."
     ]
    }
   ],
   "source": [
    "authors_lst = [\"Python\",'AskReddit', 'Programming', 'machinelearning', \"gaming\", \"worldnews\",\n",
    "             \"todayilearned\", \"Music\", \"movies\", \"science\", \"pics\", \"memes\", \"Jokes\",\n",
    "             \"InternetIsBeautiful\", \"technology\"]  \n",
    "\n",
    "authors_df =  pd.DataFrame() \n",
    "\n",
    "for u in authors_lst: \n",
    "    c = get_posts(u, 10)\n",
    "    authors_df = pd.concat([authors_df, c])\n",
    "\n",
    "authors_df.head(11)"
   ]
  },
  {
   "cell_type": "code",
   "execution_count": null,
   "metadata": {},
   "outputs": [
    {
     "ename": "",
     "evalue": "",
     "output_type": "error",
     "traceback": [
      "\u001b[1;31mFailed to start the Kernel. \n",
      "\u001b[1;31mUnable to start Kernel 'anaconda3 (Python 3.11.5)' due to a connection timeout. \n",
      "\u001b[1;31mView Jupyter <a href='command:jupyter.viewOutput'>log</a> for further details."
     ]
    }
   ],
   "source": [
    "# NETWORK ANALYSIS USING NetworkX\n",
    "nx_df = authors_df[['author','subreddit',]]\n",
    "nx_df.head()\n"
   ]
  },
  {
   "cell_type": "code",
   "execution_count": null,
   "metadata": {},
   "outputs": [
    {
     "ename": "",
     "evalue": "",
     "output_type": "error",
     "traceback": [
      "\u001b[1;31mFailed to start the Kernel. \n",
      "\u001b[1;31mUnable to start Kernel 'anaconda3 (Python 3.11.5)' due to a connection timeout. \n",
      "\u001b[1;31mView Jupyter <a href='command:jupyter.viewOutput'>log</a> for further details."
     ]
    }
   ],
   "source": [
    "\n",
    "# Graph with nodes('subreddits) and edges('authors/users')\n",
    "g = nx.from_pandas_edgelist(nx_df, source='author', target='subreddit')\n",
    "print(g)"
   ]
  },
  {
   "cell_type": "code",
   "execution_count": null,
   "metadata": {},
   "outputs": [
    {
     "ename": "",
     "evalue": "",
     "output_type": "error",
     "traceback": [
      "\u001b[1;31mFailed to start the Kernel. \n",
      "\u001b[1;31mUnable to start Kernel 'anaconda3 (Python 3.11.5)' due to a connection timeout. \n",
      "\u001b[1;31mView Jupyter <a href='command:jupyter.viewOutput'>log</a> for further details."
     ]
    }
   ],
   "source": [
    "# Top 10 Subreddits with maximum Degree Centrality\n",
    "centrality = nx.degree_centrality(g)\n",
    "[(x,centrality[x]) for x in sorted(centrality, key = centrality.get, reverse = True)[:10]]"
   ]
  },
  {
   "cell_type": "code",
   "execution_count": null,
   "metadata": {},
   "outputs": [
    {
     "ename": "",
     "evalue": "",
     "output_type": "error",
     "traceback": [
      "\u001b[1;31mFailed to start the Kernel. \n",
      "\u001b[1;31mUnable to start Kernel 'anaconda3 (Python 3.11.5)' due to a connection timeout. \n",
      "\u001b[1;31mView Jupyter <a href='command:jupyter.viewOutput'>log</a> for further details."
     ]
    }
   ],
   "source": [
    "# Top 10 Subreddits with maximum Closeness Centrality\n",
    "centrality = nx.closeness_centrality(g)\n",
    "[(x,centrality[x]) for x in sorted(centrality, key = centrality.get, reverse = True)[:10]]"
   ]
  },
  {
   "cell_type": "code",
   "execution_count": null,
   "metadata": {},
   "outputs": [
    {
     "ename": "",
     "evalue": "",
     "output_type": "error",
     "traceback": [
      "\u001b[1;31mFailed to start the Kernel. \n",
      "\u001b[1;31mUnable to start Kernel 'anaconda3 (Python 3.11.5)' due to a connection timeout. \n",
      "\u001b[1;31mView Jupyter <a href='command:jupyter.viewOutput'>log</a> for further details."
     ]
    }
   ],
   "source": [
    "# Betweenness Centrality\n",
    "centrality = nx.betweenness_centrality(g)\n",
    "[(x,centrality[x]) for x in sorted(centrality, key = centrality.get, reverse = True)[:10]]"
   ]
  },
  {
   "cell_type": "code",
   "execution_count": null,
   "metadata": {},
   "outputs": [
    {
     "ename": "",
     "evalue": "",
     "output_type": "error",
     "traceback": [
      "\u001b[1;31mFailed to start the Kernel. \n",
      "\u001b[1;31mUnable to start Kernel 'anaconda3 (Python 3.11.5)' due to a connection timeout. \n",
      "\u001b[1;31mView Jupyter <a href='command:jupyter.viewOutput'>log</a> for further details."
     ]
    }
   ],
   "source": [
    "# Eigenvector Centrality\n",
    "centrality = nx.eigenvector_centrality(g)\n",
    "[(x,centrality[x]) for x in sorted(centrality, key = centrality.get, reverse = True)[:10]]"
   ]
  },
  {
   "cell_type": "code",
   "execution_count": null,
   "metadata": {},
   "outputs": [
    {
     "ename": "",
     "evalue": "",
     "output_type": "error",
     "traceback": [
      "\u001b[1;31mFailed to start the Kernel. \n",
      "\u001b[1;31mUnable to start Kernel 'anaconda3 (Python 3.11.5)' due to a connection timeout. \n",
      "\u001b[1;31mView Jupyter <a href='command:jupyter.viewOutput'>log</a> for further details."
     ]
    }
   ],
   "source": [
    "# GRAPH VISUALIZATIONS\n",
    "from matplotlib.pyplot import figure\n",
    "figure(figsize=(10, 10))\n",
    "nx.draw_shell(g, with_labels=True)"
   ]
  },
  {
   "cell_type": "code",
   "execution_count": null,
   "metadata": {},
   "outputs": [
    {
     "ename": "",
     "evalue": "",
     "output_type": "error",
     "traceback": [
      "\u001b[1;31mFailed to start the Kernel. \n",
      "\u001b[1;31mUnable to start Kernel 'anaconda3 (Python 3.11.5)' due to a connection timeout. \n",
      "\u001b[1;31mView Jupyter <a href='command:jupyter.viewOutput'>log</a> for further details."
     ]
    }
   ],
   "source": [
    "leaderboard = {}\n",
    "for x in g.nodes:\n",
    " leaderboard[x] = len(g[x])\n",
    "s = pd.Series(leaderboard, name='connections')\n",
    "df_conn = s.to_frame().sort_values('connections', ascending=False)\n",
    "df_conn.head()"
   ]
  },
  {
   "cell_type": "code",
   "execution_count": null,
   "metadata": {},
   "outputs": [
    {
     "ename": "",
     "evalue": "",
     "output_type": "error",
     "traceback": [
      "\u001b[1;31mFailed to start the Kernel. \n",
      "\u001b[1;31mUnable to start Kernel 'anaconda3 (Python 3.11.5)' due to a connection timeout. \n",
      "\u001b[1;31mView Jupyter <a href='command:jupyter.viewOutput'>log</a> for further details."
     ]
    }
   ],
   "source": [
    "\n",
    "\n",
    "def get_related_subreddits(subreddit_name, n):\n",
    "    subreddit = reddit.subreddit(subreddit_name)\n",
    "    related_subreddits = {}\n",
    "\n",
    "    # Get n hot posts from the subreddit\n",
    "    for submission in subreddit.hot(limit=n):\n",
    "        # Get a list of subreddits mentioned in the comments\n",
    "        submission.comments.replace_more(limit=None)\n",
    "        for comment in submission.comments.list():\n",
    "            for word in comment.body.split():\n",
    "                if word.lower().startswith('r/'):\n",
    "                    related_subreddits[word.lower()] = related_subreddits.get(word.lower(), 0) + 1\n",
    "\n",
    "    return related_subreddits\n",
    "\n",
    "# Get related subreddits\n",
    "related_subreddits = get_related_subreddits('Python', 500)\n",
    "\n",
    "# Create a graph\n",
    "G = nx.Graph()\n",
    "\n",
    "# Add edges to the graph\n",
    "for subreddit, weight in related_subreddits.items():\n",
    "    G.add_edge('Python', subreddit, weight=weight)\n",
    "\n",
    "# Draw the graph\n",
    "plt.figure(figsize=(10,10))\n",
    "pos = nx.spring_layout(G, seed=42)  # positions for all nodes\n",
    "nx.draw(G, pos, with_labels=True)\n",
    "plt.show()\n"
   ]
  },
  {
   "cell_type": "code",
   "execution_count": null,
   "metadata": {},
   "outputs": [
    {
     "ename": "",
     "evalue": "",
     "output_type": "error",
     "traceback": [
      "\u001b[1;31mFailed to start the Kernel. \n",
      "\u001b[1;31mUnable to start Kernel 'anaconda3 (Python 3.11.5)' due to a connection timeout. \n",
      "\u001b[1;31mView Jupyter <a href='command:jupyter.viewOutput'>log</a> for further details."
     ]
    }
   ],
   "source": [
    "\n",
    "# Assuming nx_df is a DataFrame with 'author' and 'subreddit' columns\n",
    "g = nx.from_pandas_edgelist(nx_df, source='author', target='subreddit')\n",
    "\n",
    "# Create a layout for nodes \n",
    "layout = nx.spring_layout(g, iterations=50, scale=2)\n",
    "\n",
    "subs = list(nx_df['subreddit'].unique())\n",
    "\n",
    "\n",
    "subs = [sub for sub in subs if sub in g.nodes]\n",
    "authors_lst = [author for author in authors_lst if author in g.nodes]\n",
    "\n",
    "\n",
    "nx.draw_networkx_nodes(g, \n",
    "                       layout, \n",
    "                       nodelist=subs, \n",
    "                       node_size=sub_size, \n",
    "                       node_color='powderblue')\n",
    "\n",
    "# Assuming authors_lst is a list of authors\n",
    "nx.draw_networkx_nodes(g, layout, nodelist=authors_lst, node_color='green', node_size=100)\n",
    "\n",
    "# Draw highly connected influencers \n",
    "popular_people = [person for person in authors_lst if g.degree(person) > 1]\n",
    "nx.draw_networkx_nodes(g, layout, nodelist=popular_people, node_color='orange', node_size=100)\n",
    "\n",
    "nx.draw_networkx_edges(g, layout, width=1, edge_color=\"lightgreen\")\n",
    "\n",
    "node_labels = dict(zip(subs, subs)) #labels for subs\n",
    "nx.draw_networkx_labels(g, layout, labels=node_labels)\n",
    "\n",
    "plt.axis('off')\n",
    "plt.title(\"Network Graph of Related Subreddits\")\n",
    "plt.show()\n"
   ]
  },
  {
   "cell_type": "code",
   "execution_count": null,
   "metadata": {},
   "outputs": [
    {
     "ename": "",
     "evalue": "",
     "output_type": "error",
     "traceback": [
      "\u001b[1;31mFailed to start the Kernel. \n",
      "\u001b[1;31mUnable to start Kernel 'anaconda3 (Python 3.11.5)' due to a connection timeout. \n",
      "\u001b[1;31mView Jupyter <a href='command:jupyter.viewOutput'>log</a> for further details."
     ]
    }
   ],
   "source": []
  }
 ],
 "metadata": {
  "kernelspec": {
   "display_name": "base",
   "language": "python",
   "name": "python3"
  },
  "language_info": {
   "codemirror_mode": {
    "name": "ipython",
    "version": 3
   },
   "file_extension": ".py",
   "mimetype": "text/x-python",
   "name": "python",
   "nbconvert_exporter": "python",
   "pygments_lexer": "ipython3",
   "version": "3.11.5"
  }
 },
 "nbformat": 4,
 "nbformat_minor": 2
}
